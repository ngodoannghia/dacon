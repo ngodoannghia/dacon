{
 "cells": [
  {
   "cell_type": "code",
   "execution_count": 34,
   "metadata": {},
   "outputs": [],
   "source": [
    "import pandas as pd\n",
    "import random\n",
    "from rdkit import Chem"
   ]
  },
  {
   "cell_type": "code",
   "execution_count": 35,
   "metadata": {},
   "outputs": [],
   "source": [
    "def read_data_train(path):\n",
    "    train = pd.read_csv(path)\n",
    "    data_train = pd.concat([train['Smiles'], train['IC50_nM'], train['pIC50']], axis=1)\n",
    "    \n",
    "    return data_train"
   ]
  },
  {
   "cell_type": "code",
   "execution_count": 36,
   "metadata": {},
   "outputs": [],
   "source": [
    "train = read_data_train(\"../data/train.csv\")"
   ]
  },
  {
   "cell_type": "code",
   "execution_count": 37,
   "metadata": {},
   "outputs": [
    {
     "data": {
      "text/plain": [
       "1952"
      ]
     },
     "execution_count": 37,
     "metadata": {},
     "output_type": "execute_result"
    }
   ],
   "source": [
    "len(train)"
   ]
  },
  {
   "cell_type": "code",
   "execution_count": 38,
   "metadata": {},
   "outputs": [
    {
     "data": {
      "text/html": [
       "<div>\n",
       "<style scoped>\n",
       "    .dataframe tbody tr th:only-of-type {\n",
       "        vertical-align: middle;\n",
       "    }\n",
       "\n",
       "    .dataframe tbody tr th {\n",
       "        vertical-align: top;\n",
       "    }\n",
       "\n",
       "    .dataframe thead th {\n",
       "        text-align: right;\n",
       "    }\n",
       "</style>\n",
       "<table border=\"1\" class=\"dataframe\">\n",
       "  <thead>\n",
       "    <tr style=\"text-align: right;\">\n",
       "      <th></th>\n",
       "      <th>Smiles</th>\n",
       "      <th>IC50_nM</th>\n",
       "      <th>pIC50</th>\n",
       "    </tr>\n",
       "  </thead>\n",
       "  <tbody>\n",
       "    <tr>\n",
       "      <th>0</th>\n",
       "      <td>CN[C@@H](C)C(=O)N[C@H](C(=O)N1C[C@@H](NC(=O)CC...</td>\n",
       "      <td>0.022</td>\n",
       "      <td>10.66</td>\n",
       "    </tr>\n",
       "    <tr>\n",
       "      <th>1</th>\n",
       "      <td>CC(C)(O)[C@H](F)CN1Cc2cc(NC(=O)c3cnn4cccnc34)c...</td>\n",
       "      <td>0.026</td>\n",
       "      <td>10.59</td>\n",
       "    </tr>\n",
       "    <tr>\n",
       "      <th>2</th>\n",
       "      <td>CC(C)(O)[C@H](F)CN1Cc2cc(NC(=O)c3cnn4cccnc34)c...</td>\n",
       "      <td>0.078</td>\n",
       "      <td>10.11</td>\n",
       "    </tr>\n",
       "    <tr>\n",
       "      <th>3</th>\n",
       "      <td>CC(C)(O)[C@H](F)CN1Cc2cc(NC(=O)c3cnn4cccnc34)c...</td>\n",
       "      <td>0.081</td>\n",
       "      <td>10.09</td>\n",
       "    </tr>\n",
       "    <tr>\n",
       "      <th>4</th>\n",
       "      <td>COc1cc2c(OC[C@@H]3CCC(=O)N3)ncc(C#CCCCCCCCCCCC...</td>\n",
       "      <td>0.099</td>\n",
       "      <td>10.00</td>\n",
       "    </tr>\n",
       "  </tbody>\n",
       "</table>\n",
       "</div>"
      ],
      "text/plain": [
       "                                              Smiles  IC50_nM  pIC50\n",
       "0  CN[C@@H](C)C(=O)N[C@H](C(=O)N1C[C@@H](NC(=O)CC...    0.022  10.66\n",
       "1  CC(C)(O)[C@H](F)CN1Cc2cc(NC(=O)c3cnn4cccnc34)c...    0.026  10.59\n",
       "2  CC(C)(O)[C@H](F)CN1Cc2cc(NC(=O)c3cnn4cccnc34)c...    0.078  10.11\n",
       "3  CC(C)(O)[C@H](F)CN1Cc2cc(NC(=O)c3cnn4cccnc34)c...    0.081  10.09\n",
       "4  COc1cc2c(OC[C@@H]3CCC(=O)N3)ncc(C#CCCCCCCCCCCC...    0.099  10.00"
      ]
     },
     "execution_count": 38,
     "metadata": {},
     "output_type": "execute_result"
    }
   ],
   "source": [
    "train.head()"
   ]
  },
  {
   "cell_type": "code",
   "execution_count": 39,
   "metadata": {},
   "outputs": [
    {
     "data": {
      "text/plain": [
       "(713, 713)"
      ]
     },
     "execution_count": 39,
     "metadata": {},
     "output_type": "execute_result"
    }
   ],
   "source": [
    "df_count = train.groupby(['IC50_nM'])['Smiles'].count()\n",
    "\n",
    "ic50_nm = list(df_count.index)\n",
    "frequency = list(df_count.values)\n",
    "\n",
    "len(ic50_nm), len(frequency)"
   ]
  },
  {
   "cell_type": "code",
   "execution_count": 40,
   "metadata": {},
   "outputs": [],
   "source": [
    "ic50_nm_val = random.choices(ic50_nm, k = 100)\n",
    "list_df_val = []\n",
    "for ic50 in ic50_nm_val:\n",
    "    df_tmp = train[train['IC50_nM'] == ic50].iloc[:1]\n",
    "    list_df_val.append(pd.DataFrame(columns=train.columns, data=df_tmp.values))\n",
    "\n",
    "df_val = pd.concat(list_df_val)"
   ]
  },
  {
   "cell_type": "code",
   "execution_count": 41,
   "metadata": {},
   "outputs": [
    {
     "data": {
      "text/plain": [
       "100"
      ]
     },
     "execution_count": 41,
     "metadata": {},
     "output_type": "execute_result"
    }
   ],
   "source": [
    "len(df_val)"
   ]
  },
  {
   "cell_type": "code",
   "execution_count": 42,
   "metadata": {},
   "outputs": [],
   "source": [
    "df_train = train[~train['Smiles'].isin(df_val['Smiles'])]"
   ]
  },
  {
   "cell_type": "code",
   "execution_count": 43,
   "metadata": {},
   "outputs": [
    {
     "data": {
      "text/plain": [
       "1858"
      ]
     },
     "execution_count": 43,
     "metadata": {},
     "output_type": "execute_result"
    }
   ],
   "source": [
    "len(df_train)"
   ]
  },
  {
   "cell_type": "code",
   "execution_count": 52,
   "metadata": {},
   "outputs": [],
   "source": [
    "def create_dict_df(df):\n",
    "    dict_dataframe = {}\n",
    "    max_smile = 20\n",
    "\n",
    "    df_count = df.groupby(['IC50_nM'])['Smiles'].count()\n",
    "    ic50_nm = list(df_count.index)\n",
    "    frequency = list(df_count.values)\n",
    "    set_smiles = set(df['Smiles'].values)\n",
    "\n",
    "    for ic, freq in zip(ic50_nm, frequency):\n",
    "        df_tmp = df[df['IC50_nM'] == ic]\n",
    "        num_smile = 0\n",
    "        list_new_smiles = []\n",
    "        attemp = 0\n",
    "        while num_smile <= max_smile:\n",
    "            idx = num_smile % len(df_tmp)\n",
    "            row = df_tmp.iloc[idx].values\n",
    "            smile, v_ic50, v_pic50 = row[0], row[1], row[2]\n",
    "\n",
    "            mol = Chem.MolFromSmiles(smile)\n",
    "            new_smile = Chem.MolToSmiles(mol, doRandom=True)\n",
    "\n",
    "            if new_smile not in set_smiles:\n",
    "                list_new_smiles.append([new_smile, v_ic50, v_pic50])\n",
    "\n",
    "                num_smile += 1\n",
    "\n",
    "                set_smiles.add(new_smile)\n",
    "\n",
    "                attemp = 0\n",
    "            \n",
    "            else:\n",
    "                attemp += 1\n",
    "            \n",
    "            if attemp == 10:\n",
    "                num_smile += 1\n",
    "                attemp = 0\n",
    "        \n",
    "        df_new_smiles = pd.DataFrame(columns=df_tmp.columns, data=list_new_smiles)\n",
    "        \n",
    "        df_concat = pd.concat([df_tmp, df_new_smiles])\n",
    "\n",
    "        dict_dataframe[ic] = df_concat\n",
    "    list_dataframe = []\n",
    "    for k in dict_dataframe:\n",
    "        list_dataframe.append(dict_dataframe[k])\n",
    "\n",
    "    df_all = pd.concat(list_dataframe)\n",
    "\n",
    "    return df_all"
   ]
  },
  {
   "cell_type": "code",
   "execution_count": 53,
   "metadata": {},
   "outputs": [],
   "source": [
    "df_train.reset_index(inplace=True, drop=True)\n",
    "df_val.reset_index(inplace=True, drop=True)"
   ]
  },
  {
   "cell_type": "code",
   "execution_count": 54,
   "metadata": {},
   "outputs": [
    {
     "name": "stderr",
     "output_type": "stream",
     "text": [
      "/tmp/ipykernel_1645007/3419290650.py:41: FutureWarning: The behavior of DataFrame concatenation with empty or all-NA entries is deprecated. In a future version, this will no longer exclude empty or all-NA columns when determining the result dtypes. To retain the old behavior, exclude the relevant entries before the concat operation.\n",
      "  df_concat = pd.concat([df_tmp, df_new_smiles])\n",
      "/tmp/ipykernel_1645007/3419290650.py:41: FutureWarning: The behavior of DataFrame concatenation with empty or all-NA entries is deprecated. In a future version, this will no longer exclude empty or all-NA columns when determining the result dtypes. To retain the old behavior, exclude the relevant entries before the concat operation.\n",
      "  df_concat = pd.concat([df_tmp, df_new_smiles])\n",
      "/tmp/ipykernel_1645007/3419290650.py:41: FutureWarning: The behavior of DataFrame concatenation with empty or all-NA entries is deprecated. In a future version, this will no longer exclude empty or all-NA columns when determining the result dtypes. To retain the old behavior, exclude the relevant entries before the concat operation.\n",
      "  df_concat = pd.concat([df_tmp, df_new_smiles])\n",
      "/tmp/ipykernel_1645007/3419290650.py:41: FutureWarning: The behavior of DataFrame concatenation with empty or all-NA entries is deprecated. In a future version, this will no longer exclude empty or all-NA columns when determining the result dtypes. To retain the old behavior, exclude the relevant entries before the concat operation.\n",
      "  df_concat = pd.concat([df_tmp, df_new_smiles])\n",
      "/tmp/ipykernel_1645007/3419290650.py:41: FutureWarning: The behavior of DataFrame concatenation with empty or all-NA entries is deprecated. In a future version, this will no longer exclude empty or all-NA columns when determining the result dtypes. To retain the old behavior, exclude the relevant entries before the concat operation.\n",
      "  df_concat = pd.concat([df_tmp, df_new_smiles])\n",
      "/tmp/ipykernel_1645007/3419290650.py:41: FutureWarning: The behavior of DataFrame concatenation with empty or all-NA entries is deprecated. In a future version, this will no longer exclude empty or all-NA columns when determining the result dtypes. To retain the old behavior, exclude the relevant entries before the concat operation.\n",
      "  df_concat = pd.concat([df_tmp, df_new_smiles])\n",
      "/tmp/ipykernel_1645007/3419290650.py:41: FutureWarning: The behavior of DataFrame concatenation with empty or all-NA entries is deprecated. In a future version, this will no longer exclude empty or all-NA columns when determining the result dtypes. To retain the old behavior, exclude the relevant entries before the concat operation.\n",
      "  df_concat = pd.concat([df_tmp, df_new_smiles])\n"
     ]
    }
   ],
   "source": [
    "df_train_all = create_dict_df(df_train)"
   ]
  },
  {
   "cell_type": "code",
   "execution_count": 55,
   "metadata": {},
   "outputs": [
    {
     "data": {
      "text/html": [
       "<div>\n",
       "<style scoped>\n",
       "    .dataframe tbody tr th:only-of-type {\n",
       "        vertical-align: middle;\n",
       "    }\n",
       "\n",
       "    .dataframe tbody tr th {\n",
       "        vertical-align: top;\n",
       "    }\n",
       "\n",
       "    .dataframe thead th {\n",
       "        text-align: right;\n",
       "    }\n",
       "</style>\n",
       "<table border=\"1\" class=\"dataframe\">\n",
       "  <thead>\n",
       "    <tr style=\"text-align: right;\">\n",
       "      <th></th>\n",
       "      <th>Smiles</th>\n",
       "      <th>IC50_nM</th>\n",
       "      <th>pIC50</th>\n",
       "    </tr>\n",
       "  </thead>\n",
       "  <tbody>\n",
       "    <tr>\n",
       "      <th>0</th>\n",
       "      <td>CN[C@@H](C)C(=O)N[C@H](C(=O)N1C[C@@H](NC(=O)CC...</td>\n",
       "      <td>0.022</td>\n",
       "      <td>10.66</td>\n",
       "    </tr>\n",
       "    <tr>\n",
       "      <th>0</th>\n",
       "      <td>O(CC#Cc1c2c(c(nc1)OC[C@H]1NC(=O)CC1)cc(c(c2)C(...</td>\n",
       "      <td>0.022</td>\n",
       "      <td>10.66</td>\n",
       "    </tr>\n",
       "    <tr>\n",
       "      <th>1</th>\n",
       "      <td>NC(c1cc2c(cc1OC)c(OC[C@H]1NC(CC1)=O)ncc2C#CCOC...</td>\n",
       "      <td>0.022</td>\n",
       "      <td>10.66</td>\n",
       "    </tr>\n",
       "    <tr>\n",
       "      <th>2</th>\n",
       "      <td>C([C@@H](NC)C)(N[C@@H](C1CCCCC1)C(N1[C@H](C(N[...</td>\n",
       "      <td>0.022</td>\n",
       "      <td>10.66</td>\n",
       "    </tr>\n",
       "    <tr>\n",
       "      <th>3</th>\n",
       "      <td>c1c2c(c(OC[C@H]3NC(=O)CC3)ncc2C#CCOCCOCCOCCC(=...</td>\n",
       "      <td>0.022</td>\n",
       "      <td>10.66</td>\n",
       "    </tr>\n",
       "  </tbody>\n",
       "</table>\n",
       "</div>"
      ],
      "text/plain": [
       "                                              Smiles  IC50_nM  pIC50\n",
       "0  CN[C@@H](C)C(=O)N[C@H](C(=O)N1C[C@@H](NC(=O)CC...    0.022  10.66\n",
       "0  O(CC#Cc1c2c(c(nc1)OC[C@H]1NC(=O)CC1)cc(c(c2)C(...    0.022  10.66\n",
       "1  NC(c1cc2c(cc1OC)c(OC[C@H]1NC(CC1)=O)ncc2C#CCOC...    0.022  10.66\n",
       "2  C([C@@H](NC)C)(N[C@@H](C1CCCCC1)C(N1[C@H](C(N[...    0.022  10.66\n",
       "3  c1c2c(c(OC[C@H]3NC(=O)CC3)ncc2C#CCOCCOCCOCCC(=...    0.022  10.66"
      ]
     },
     "execution_count": 55,
     "metadata": {},
     "output_type": "execute_result"
    }
   ],
   "source": [
    "df_train_all.head()"
   ]
  },
  {
   "cell_type": "code",
   "execution_count": 56,
   "metadata": {},
   "outputs": [
    {
     "data": {
      "text/plain": [
       "13163"
      ]
     },
     "execution_count": 56,
     "metadata": {},
     "output_type": "execute_result"
    }
   ],
   "source": [
    "len(df_train_all)"
   ]
  },
  {
   "cell_type": "code",
   "execution_count": 57,
   "metadata": {},
   "outputs": [],
   "source": [
    "df_train_all.to_csv(\"../data/balance/train_10.csv\", index=False)"
   ]
  },
  {
   "cell_type": "code",
   "execution_count": 58,
   "metadata": {},
   "outputs": [
    {
     "data": {
      "text/plain": [
       "13163"
      ]
     },
     "execution_count": 58,
     "metadata": {},
     "output_type": "execute_result"
    }
   ],
   "source": [
    "len(df_train_all)"
   ]
  },
  {
   "cell_type": "code",
   "execution_count": 59,
   "metadata": {},
   "outputs": [],
   "source": [
    "df_val.to_csv(\"../data/balance/val_10.csv\", index=False)"
   ]
  },
  {
   "cell_type": "code",
   "execution_count": 200,
   "metadata": {},
   "outputs": [
    {
     "data": {
      "text/html": [
       "<div>\n",
       "<style scoped>\n",
       "    .dataframe tbody tr th:only-of-type {\n",
       "        vertical-align: middle;\n",
       "    }\n",
       "\n",
       "    .dataframe tbody tr th {\n",
       "        vertical-align: top;\n",
       "    }\n",
       "\n",
       "    .dataframe thead th {\n",
       "        text-align: right;\n",
       "    }\n",
       "</style>\n",
       "<table border=\"1\" class=\"dataframe\">\n",
       "  <thead>\n",
       "    <tr style=\"text-align: right;\">\n",
       "      <th></th>\n",
       "      <th>Smiles</th>\n",
       "      <th>IC50_nM</th>\n",
       "      <th>pIC50</th>\n",
       "    </tr>\n",
       "  </thead>\n",
       "  <tbody>\n",
       "    <tr>\n",
       "      <th>0</th>\n",
       "      <td>CC(C)(O)[C@H](F)CN1Cc2cc(NC(=O)c3cnn4cccnc34)c...</td>\n",
       "      <td>0.026</td>\n",
       "      <td>10.59</td>\n",
       "    </tr>\n",
       "    <tr>\n",
       "      <th>0</th>\n",
       "      <td>c1c(c(N2CCC(N3CCC3)CC2)cc2C(N(C[C@@H](F)C(O)(C...</td>\n",
       "      <td>0.026</td>\n",
       "      <td>10.59</td>\n",
       "    </tr>\n",
       "    <tr>\n",
       "      <th>1</th>\n",
       "      <td>c1(cc2c(cc1N1CCC(CC1)N1CCC1)C(=O)N(C[C@@H](F)C...</td>\n",
       "      <td>0.026</td>\n",
       "      <td>10.59</td>\n",
       "    </tr>\n",
       "    <tr>\n",
       "      <th>2</th>\n",
       "      <td>N1(CCC1)C1CCN(c2cc3C(N(Cc3cc2NC(c2c3n(cccn3)nc...</td>\n",
       "      <td>0.026</td>\n",
       "      <td>10.59</td>\n",
       "    </tr>\n",
       "    <tr>\n",
       "      <th>3</th>\n",
       "      <td>c1(N2CCC(CC2)N2CCC2)cc2c(CN(C2=O)C[C@H](C(C)(O...</td>\n",
       "      <td>0.026</td>\n",
       "      <td>10.59</td>\n",
       "    </tr>\n",
       "  </tbody>\n",
       "</table>\n",
       "</div>"
      ],
      "text/plain": [
       "                                              Smiles  IC50_nM  pIC50\n",
       "0  CC(C)(O)[C@H](F)CN1Cc2cc(NC(=O)c3cnn4cccnc34)c...    0.026  10.59\n",
       "0  c1c(c(N2CCC(N3CCC3)CC2)cc2C(N(C[C@@H](F)C(O)(C...    0.026  10.59\n",
       "1  c1(cc2c(cc1N1CCC(CC1)N1CCC1)C(=O)N(C[C@@H](F)C...    0.026  10.59\n",
       "2  N1(CCC1)C1CCN(c2cc3C(N(Cc3cc2NC(c2c3n(cccn3)nc...    0.026  10.59\n",
       "3  c1(N2CCC(CC2)N2CCC2)cc2c(CN(C2=O)C[C@H](C(C)(O...    0.026  10.59"
      ]
     },
     "execution_count": 200,
     "metadata": {},
     "output_type": "execute_result"
    }
   ],
   "source": [
    "df_train_all.head()"
   ]
  },
  {
   "cell_type": "code",
   "execution_count": 201,
   "metadata": {},
   "outputs": [
    {
     "data": {
      "text/plain": [
       "(290501, 250)"
      ]
     },
     "execution_count": 201,
     "metadata": {},
     "output_type": "execute_result"
    }
   ],
   "source": [
    "len(df_train_all), len(df_val)"
   ]
  },
  {
   "cell_type": "code",
   "execution_count": null,
   "metadata": {},
   "outputs": [],
   "source": [
    "from rdkit import Chem\n",
    "from rdkit.Chem import Descriptors\n",
    "\n",
    "def calculate_molecular_features(smiles):\n",
    "    mol = Chem.MolFromSmiles(smiles)\n",
    "    features = {\n",
    "        'MolecularWeight': Descriptors.MolWt(mol),\n",
    "        'LogP': Descriptors.MolLogP(mol),\n",
    "        'NumRings': Descriptors.RingCount(mol),\n",
    "        'NumHeavyAtoms': Descriptors.HeavyAtomCount(mol),\n",
    "        'NumDoubleBonds': Descriptors.NumDoubleBonds(mol),\n",
    "        'NumTripleBonds': Descriptors.NumTripleBonds(mol),\n",
    "        'PolarSurfaceArea': Descriptors.TPSA(mol),\n",
    "        'NumHDonors': Descriptors.NumHDonors(mol),\n",
    "        'NumHAcceptors': Descriptors.NumHAcceptors(mol),\n",
    "    }\n",
    "    return features\n",
    "\n",
    "# Ví dụ sử dụng\n",
    "smiles = \"CCO\"\n",
    "features = calculate_molecular_features(smiles)\n",
    "print(features)"
   ]
  },
  {
   "cell_type": "code",
   "execution_count": null,
   "metadata": {},
   "outputs": [],
   "source": []
  }
 ],
 "metadata": {
  "kernelspec": {
   "display_name": "asr",
   "language": "python",
   "name": "python3"
  },
  "language_info": {
   "codemirror_mode": {
    "name": "ipython",
    "version": 3
   },
   "file_extension": ".py",
   "mimetype": "text/x-python",
   "name": "python",
   "nbconvert_exporter": "python",
   "pygments_lexer": "ipython3",
   "version": "3.9.19"
  }
 },
 "nbformat": 4,
 "nbformat_minor": 2
}
