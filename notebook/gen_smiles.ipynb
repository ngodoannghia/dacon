{
 "cells": [
  {
   "cell_type": "code",
   "execution_count": 36,
   "metadata": {},
   "outputs": [],
   "source": [
    "from rdkit import Chem\n",
    "from rdkit.Chem import AllChem\n",
    "import pandas as pd\n",
    "from tqdm import tqdm\n",
    "import torch\n",
    "import random"
   ]
  },
  {
   "cell_type": "code",
   "execution_count": 37,
   "metadata": {},
   "outputs": [],
   "source": [
    "train = pd.read_csv('../data/train.csv')"
   ]
  },
  {
   "cell_type": "code",
   "execution_count": null,
   "metadata": {},
   "outputs": [],
   "source": [
    "df_count = train.groupby(['IC50_nM'])['Smiles'].count()\n",
    "\n",
    "ic50_nm = list(df_count.index)\n",
    "frequency = list(df_count.values)\n",
    "\n",
    "len(ic50_nm), len(frequency)"
   ]
  },
  {
   "cell_type": "code",
   "execution_count": null,
   "metadata": {},
   "outputs": [],
   "source": [
    "ic50_nm_val = random.choices(ic50_nm, k = 100)\n",
    "list_df_val = []\n",
    "for ic50 in ic50_nm_val:\n",
    "    df_tmp = train[train['IC50_nM'] == ic50].iloc[:1]\n",
    "    list_df_val.append(pd.DataFrame(columns=train.columns, data=df_tmp.values))\n",
    "\n",
    "df_val = pd.concat(list_df_val)"
   ]
  },
  {
   "cell_type": "code",
   "execution_count": 39,
   "metadata": {},
   "outputs": [],
   "source": [
    "def enumerate_smiles(smiles, num=20):\n",
    "    mol = Chem.MolFromSmiles(smiles)\n",
    "    # Tạo danh sách tất cả các biến thể SMILES\n",
    "    smiles_list = list(set(Chem.MolToSmiles(mol, doRandom=True) for _ in range(num)))\n",
    "    return smiles_list"
   ]
  },
  {
   "cell_type": "code",
   "execution_count": 40,
   "metadata": {},
   "outputs": [],
   "source": [
    "list_sample = []\n",
    "for s, v_ic50, v_pic50 in zip(train.Smiles, train.IC50_nM, train.pIC50):\n",
    "    list_sample.append([s, v_ic50, v_pic50])\n",
    "    s_list = enumerate_smiles(s, 5)\n",
    "    \n",
    "    for tmp in set(s_list):\n",
    "        list_sample.append([tmp, v_ic50, v_pic50])"
   ]
  },
  {
   "cell_type": "code",
   "execution_count": 41,
   "metadata": {},
   "outputs": [],
   "source": [
    "train_data = pd.DataFrame(columns=[\"Smiles\", \"IC50_nM\", \"pIC50\"], data=list_sample)"
   ]
  },
  {
   "cell_type": "code",
   "execution_count": 42,
   "metadata": {},
   "outputs": [],
   "source": [
    "train_data.to_csv(\"../data/data_split_val/train_10_all.csv\", index=False)"
   ]
  },
  {
   "cell_type": "code",
   "execution_count": 43,
   "metadata": {},
   "outputs": [
    {
     "data": {
      "text/plain": [
       "21464"
      ]
     },
     "execution_count": 43,
     "metadata": {},
     "output_type": "execute_result"
    }
   ],
   "source": [
    "len(train_data)"
   ]
  },
  {
   "cell_type": "code",
   "execution_count": null,
   "metadata": {},
   "outputs": [],
   "source": []
  }
 ],
 "metadata": {
  "kernelspec": {
   "display_name": "crawl",
   "language": "python",
   "name": "python3"
  },
  "language_info": {
   "codemirror_mode": {
    "name": "ipython",
    "version": 3
   },
   "file_extension": ".py",
   "mimetype": "text/x-python",
   "name": "python",
   "nbconvert_exporter": "python",
   "pygments_lexer": "ipython3",
   "version": "3.9.19"
  }
 },
 "nbformat": 4,
 "nbformat_minor": 2
}
