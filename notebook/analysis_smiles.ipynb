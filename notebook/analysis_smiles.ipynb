{
 "cells": [
  {
   "cell_type": "code",
   "execution_count": 7,
   "metadata": {},
   "outputs": [],
   "source": [
    "from rdkit.Chem import Descriptors\n",
    "from rdkit import Chem\n",
    "from rdkit.Chem import QED\n",
    "from rdkit.Chem import rdMolDescriptors\n",
    "from rdkit.Chem import rdqueries\n",
    "from rdkit.Chem import AllChem\n",
    "from rdkit.Chem.rdMolDescriptors import CalcPMI1, CalcPMI2, CalcPMI3\n",
    "from rdkit.Chem.rdMolDescriptors import CalcInertialShapeFactor\n",
    "from rdkit.Chem.rdMolDescriptors import CalcPBF\n",
    "from rdkit.Chem.rdMolDescriptors import CalcRadiusOfGyration\n",
    "\n",
    "\n",
    "import pandas as pd\n",
    "import numpy as np"
   ]
  },
  {
   "cell_type": "code",
   "execution_count": 5,
   "metadata": {},
   "outputs": [],
   "source": [
    "# Read data\n",
    "train = pd.read_csv('../data/train.csv')\n",
    "test = pd.read_csv('../data/test.csv')"
   ]
  },
  {
   "cell_type": "code",
   "execution_count": 6,
   "metadata": {},
   "outputs": [
    {
     "data": {
      "text/html": [
       "<div>\n",
       "<style scoped>\n",
       "    .dataframe tbody tr th:only-of-type {\n",
       "        vertical-align: middle;\n",
       "    }\n",
       "\n",
       "    .dataframe tbody tr th {\n",
       "        vertical-align: top;\n",
       "    }\n",
       "\n",
       "    .dataframe thead th {\n",
       "        text-align: right;\n",
       "    }\n",
       "</style>\n",
       "<table border=\"1\" class=\"dataframe\">\n",
       "  <thead>\n",
       "    <tr style=\"text-align: right;\">\n",
       "      <th></th>\n",
       "      <th>Molecule ChEMBL ID</th>\n",
       "      <th>Standard Type</th>\n",
       "      <th>Standard Relation</th>\n",
       "      <th>Standard Value</th>\n",
       "      <th>Standard Units</th>\n",
       "      <th>pChEMBL Value</th>\n",
       "      <th>Assay ChEMBL ID</th>\n",
       "      <th>Target ChEMBL ID</th>\n",
       "      <th>Target Name</th>\n",
       "      <th>Target Organism</th>\n",
       "      <th>Target Type</th>\n",
       "      <th>Document ChEMBL ID</th>\n",
       "      <th>IC50_nM</th>\n",
       "      <th>pIC50</th>\n",
       "      <th>Smiles</th>\n",
       "    </tr>\n",
       "  </thead>\n",
       "  <tbody>\n",
       "    <tr>\n",
       "      <th>0</th>\n",
       "      <td>CHEMBL4443947</td>\n",
       "      <td>IC50</td>\n",
       "      <td>'='</td>\n",
       "      <td>0.022</td>\n",
       "      <td>nM</td>\n",
       "      <td>10.66</td>\n",
       "      <td>CHEMBL4361896</td>\n",
       "      <td>CHEMBL3778</td>\n",
       "      <td>Interleukin-1 receptor-associated kinase 4</td>\n",
       "      <td>Homo sapiens</td>\n",
       "      <td>SINGLE PROTEIN</td>\n",
       "      <td>CHEMBL4359855</td>\n",
       "      <td>0.022</td>\n",
       "      <td>10.66</td>\n",
       "      <td>CN[C@@H](C)C(=O)N[C@H](C(=O)N1C[C@@H](NC(=O)CC...</td>\n",
       "    </tr>\n",
       "    <tr>\n",
       "      <th>1</th>\n",
       "      <td>CHEMBL4556091</td>\n",
       "      <td>IC50</td>\n",
       "      <td>'='</td>\n",
       "      <td>0.026</td>\n",
       "      <td>nM</td>\n",
       "      <td>10.59</td>\n",
       "      <td>CHEMBL4345131</td>\n",
       "      <td>CHEMBL3778</td>\n",
       "      <td>Interleukin-1 receptor-associated kinase 4</td>\n",
       "      <td>Homo sapiens</td>\n",
       "      <td>SINGLE PROTEIN</td>\n",
       "      <td>CHEMBL4342485</td>\n",
       "      <td>0.026</td>\n",
       "      <td>10.59</td>\n",
       "      <td>CC(C)(O)[C@H](F)CN1Cc2cc(NC(=O)c3cnn4cccnc34)c...</td>\n",
       "    </tr>\n",
       "    <tr>\n",
       "      <th>2</th>\n",
       "      <td>CHEMBL4566431</td>\n",
       "      <td>IC50</td>\n",
       "      <td>'='</td>\n",
       "      <td>0.078</td>\n",
       "      <td>nM</td>\n",
       "      <td>10.11</td>\n",
       "      <td>CHEMBL4345131</td>\n",
       "      <td>CHEMBL3778</td>\n",
       "      <td>Interleukin-1 receptor-associated kinase 4</td>\n",
       "      <td>Homo sapiens</td>\n",
       "      <td>SINGLE PROTEIN</td>\n",
       "      <td>CHEMBL4342485</td>\n",
       "      <td>0.078</td>\n",
       "      <td>10.11</td>\n",
       "      <td>CC(C)(O)[C@H](F)CN1Cc2cc(NC(=O)c3cnn4cccnc34)c...</td>\n",
       "    </tr>\n",
       "    <tr>\n",
       "      <th>3</th>\n",
       "      <td>CHEMBL4545898</td>\n",
       "      <td>IC50</td>\n",
       "      <td>'='</td>\n",
       "      <td>0.081</td>\n",
       "      <td>nM</td>\n",
       "      <td>10.09</td>\n",
       "      <td>CHEMBL4345131</td>\n",
       "      <td>CHEMBL3778</td>\n",
       "      <td>Interleukin-1 receptor-associated kinase 4</td>\n",
       "      <td>Homo sapiens</td>\n",
       "      <td>SINGLE PROTEIN</td>\n",
       "      <td>CHEMBL4342485</td>\n",
       "      <td>0.081</td>\n",
       "      <td>10.09</td>\n",
       "      <td>CC(C)(O)[C@H](F)CN1Cc2cc(NC(=O)c3cnn4cccnc34)c...</td>\n",
       "    </tr>\n",
       "    <tr>\n",
       "      <th>4</th>\n",
       "      <td>CHEMBL4448950</td>\n",
       "      <td>IC50</td>\n",
       "      <td>'='</td>\n",
       "      <td>0.099</td>\n",
       "      <td>nM</td>\n",
       "      <td>10.00</td>\n",
       "      <td>CHEMBL4361896</td>\n",
       "      <td>CHEMBL3778</td>\n",
       "      <td>Interleukin-1 receptor-associated kinase 4</td>\n",
       "      <td>Homo sapiens</td>\n",
       "      <td>SINGLE PROTEIN</td>\n",
       "      <td>CHEMBL4359855</td>\n",
       "      <td>0.099</td>\n",
       "      <td>10.00</td>\n",
       "      <td>COc1cc2c(OC[C@@H]3CCC(=O)N3)ncc(C#CCCCCCCCCCCC...</td>\n",
       "    </tr>\n",
       "  </tbody>\n",
       "</table>\n",
       "</div>"
      ],
      "text/plain": [
       "  Molecule ChEMBL ID Standard Type Standard Relation  Standard Value  \\\n",
       "0      CHEMBL4443947          IC50               '='           0.022   \n",
       "1      CHEMBL4556091          IC50               '='           0.026   \n",
       "2      CHEMBL4566431          IC50               '='           0.078   \n",
       "3      CHEMBL4545898          IC50               '='           0.081   \n",
       "4      CHEMBL4448950          IC50               '='           0.099   \n",
       "\n",
       "  Standard Units  pChEMBL Value Assay ChEMBL ID Target ChEMBL ID  \\\n",
       "0             nM          10.66   CHEMBL4361896       CHEMBL3778   \n",
       "1             nM          10.59   CHEMBL4345131       CHEMBL3778   \n",
       "2             nM          10.11   CHEMBL4345131       CHEMBL3778   \n",
       "3             nM          10.09   CHEMBL4345131       CHEMBL3778   \n",
       "4             nM          10.00   CHEMBL4361896       CHEMBL3778   \n",
       "\n",
       "                                  Target Name Target Organism     Target Type  \\\n",
       "0  Interleukin-1 receptor-associated kinase 4    Homo sapiens  SINGLE PROTEIN   \n",
       "1  Interleukin-1 receptor-associated kinase 4    Homo sapiens  SINGLE PROTEIN   \n",
       "2  Interleukin-1 receptor-associated kinase 4    Homo sapiens  SINGLE PROTEIN   \n",
       "3  Interleukin-1 receptor-associated kinase 4    Homo sapiens  SINGLE PROTEIN   \n",
       "4  Interleukin-1 receptor-associated kinase 4    Homo sapiens  SINGLE PROTEIN   \n",
       "\n",
       "  Document ChEMBL ID  IC50_nM  pIC50  \\\n",
       "0      CHEMBL4359855    0.022  10.66   \n",
       "1      CHEMBL4342485    0.026  10.59   \n",
       "2      CHEMBL4342485    0.078  10.11   \n",
       "3      CHEMBL4342485    0.081  10.09   \n",
       "4      CHEMBL4359855    0.099  10.00   \n",
       "\n",
       "                                              Smiles  \n",
       "0  CN[C@@H](C)C(=O)N[C@H](C(=O)N1C[C@@H](NC(=O)CC...  \n",
       "1  CC(C)(O)[C@H](F)CN1Cc2cc(NC(=O)c3cnn4cccnc34)c...  \n",
       "2  CC(C)(O)[C@H](F)CN1Cc2cc(NC(=O)c3cnn4cccnc34)c...  \n",
       "3  CC(C)(O)[C@H](F)CN1Cc2cc(NC(=O)c3cnn4cccnc34)c...  \n",
       "4  COc1cc2c(OC[C@@H]3CCC(=O)N3)ncc(C#CCCCCCCCCCCC...  "
      ]
     },
     "execution_count": 6,
     "metadata": {},
     "output_type": "execute_result"
    }
   ],
   "source": [
    "train.head()"
   ]
  },
  {
   "cell_type": "code",
   "execution_count": 56,
   "metadata": {},
   "outputs": [
    {
     "name": "stdout",
     "output_type": "stream",
     "text": [
      "CHEMBL4443947\n"
     ]
    }
   ],
   "source": [
    "for i in range(len(train)):\n",
    "    print(train.iloc[i].values[0])\n",
    "    break"
   ]
  },
  {
   "cell_type": "code",
   "execution_count": 9,
   "metadata": {},
   "outputs": [],
   "source": [
    "data_train = pd.concat([train['Molecule ChEMBL ID'], train['Smiles'], train['IC50_nM']], axis=1)"
   ]
  },
  {
   "cell_type": "code",
   "execution_count": 51,
   "metadata": {},
   "outputs": [
    {
     "data": {
      "text/plain": [
       "array([2.2e-02, 2.6e-02, 7.8e-02, ..., 3.0e+04, 4.2e+04, 5.5e+04])"
      ]
     },
     "execution_count": 51,
     "metadata": {},
     "output_type": "execute_result"
    }
   ],
   "source": [
    "train['IC50_nM'].values"
   ]
  },
  {
   "cell_type": "code",
   "execution_count": 10,
   "metadata": {},
   "outputs": [
    {
     "data": {
      "text/html": [
       "<div>\n",
       "<style scoped>\n",
       "    .dataframe tbody tr th:only-of-type {\n",
       "        vertical-align: middle;\n",
       "    }\n",
       "\n",
       "    .dataframe tbody tr th {\n",
       "        vertical-align: top;\n",
       "    }\n",
       "\n",
       "    .dataframe thead th {\n",
       "        text-align: right;\n",
       "    }\n",
       "</style>\n",
       "<table border=\"1\" class=\"dataframe\">\n",
       "  <thead>\n",
       "    <tr style=\"text-align: right;\">\n",
       "      <th></th>\n",
       "      <th>Molecule ChEMBL ID</th>\n",
       "      <th>Smiles</th>\n",
       "      <th>IC50_nM</th>\n",
       "    </tr>\n",
       "  </thead>\n",
       "  <tbody>\n",
       "    <tr>\n",
       "      <th>0</th>\n",
       "      <td>CHEMBL4443947</td>\n",
       "      <td>CN[C@@H](C)C(=O)N[C@H](C(=O)N1C[C@@H](NC(=O)CC...</td>\n",
       "      <td>0.022</td>\n",
       "    </tr>\n",
       "    <tr>\n",
       "      <th>1</th>\n",
       "      <td>CHEMBL4556091</td>\n",
       "      <td>CC(C)(O)[C@H](F)CN1Cc2cc(NC(=O)c3cnn4cccnc34)c...</td>\n",
       "      <td>0.026</td>\n",
       "    </tr>\n",
       "    <tr>\n",
       "      <th>2</th>\n",
       "      <td>CHEMBL4566431</td>\n",
       "      <td>CC(C)(O)[C@H](F)CN1Cc2cc(NC(=O)c3cnn4cccnc34)c...</td>\n",
       "      <td>0.078</td>\n",
       "    </tr>\n",
       "    <tr>\n",
       "      <th>3</th>\n",
       "      <td>CHEMBL4545898</td>\n",
       "      <td>CC(C)(O)[C@H](F)CN1Cc2cc(NC(=O)c3cnn4cccnc34)c...</td>\n",
       "      <td>0.081</td>\n",
       "    </tr>\n",
       "    <tr>\n",
       "      <th>4</th>\n",
       "      <td>CHEMBL4448950</td>\n",
       "      <td>COc1cc2c(OC[C@@H]3CCC(=O)N3)ncc(C#CCCCCCCCCCCC...</td>\n",
       "      <td>0.099</td>\n",
       "    </tr>\n",
       "  </tbody>\n",
       "</table>\n",
       "</div>"
      ],
      "text/plain": [
       "  Molecule ChEMBL ID                                             Smiles  \\\n",
       "0      CHEMBL4443947  CN[C@@H](C)C(=O)N[C@H](C(=O)N1C[C@@H](NC(=O)CC...   \n",
       "1      CHEMBL4556091  CC(C)(O)[C@H](F)CN1Cc2cc(NC(=O)c3cnn4cccnc34)c...   \n",
       "2      CHEMBL4566431  CC(C)(O)[C@H](F)CN1Cc2cc(NC(=O)c3cnn4cccnc34)c...   \n",
       "3      CHEMBL4545898  CC(C)(O)[C@H](F)CN1Cc2cc(NC(=O)c3cnn4cccnc34)c...   \n",
       "4      CHEMBL4448950  COc1cc2c(OC[C@@H]3CCC(=O)N3)ncc(C#CCCCCCCCCCCC...   \n",
       "\n",
       "   IC50_nM  \n",
       "0    0.022  \n",
       "1    0.026  \n",
       "2    0.078  \n",
       "3    0.081  \n",
       "4    0.099  "
      ]
     },
     "execution_count": 10,
     "metadata": {},
     "output_type": "execute_result"
    }
   ],
   "source": [
    "data_train.head()"
   ]
  },
  {
   "cell_type": "code",
   "execution_count": 12,
   "metadata": {},
   "outputs": [
    {
     "name": "stdout",
     "output_type": "stream",
     "text": [
      "susscess\n"
     ]
    }
   ],
   "source": [
    "sample_smile = train['Smiles'][0]\n",
    "mol = Chem.MolFromSmiles(sample_smile)\n",
    "\n",
    "if mol:\n",
    "    print(\"susscess\")\n",
    "else:\n",
    "    print(\"Faile\")"
   ]
  },
  {
   "cell_type": "code",
   "execution_count": 48,
   "metadata": {},
   "outputs": [
    {
     "name": "stdout",
     "output_type": "stream",
     "text": [
      "Mol weight:  995.1879999999995\n",
      "Log P:  2.7436000000000096\n",
      "Num rotatable bonds:  23\n",
      "Tpsa:  250.86999999999998\n",
      "Num h donors:  6\n",
      "Num h acceptor:  13\n",
      "Mol refractivity:  266.76439999999945\n",
      "Num rings:  7\n",
      "Fraction csp3:  0.5660377358490566\n",
      "Num aromatic rings:  3\n",
      "Qed value:  0.05918691882036578\n",
      "Balaban j:  0.858127174029979\n",
      "Chi0:  50.98597716963361\n",
      "Matches:  True\n"
     ]
    },
    {
     "name": "stderr",
     "output_type": "stream",
     "text": [
      "[23:37:39] Molecule does not have explicit Hs. Consider calling AddHs()\n"
     ]
    },
    {
     "name": "stdout",
     "output_type": "stream",
     "text": [
      "pmi1: 9395.348557615667\n",
      "pmi2: 76386.56127188886\n",
      "pmi3: 79024.32745915686\n",
      "inertial shape factor 0.00010288291355329395\n",
      "Pmi ratio:  2.0535770646139446\n",
      "Radius of gyration:  9.440354516560873\n"
     ]
    },
    {
     "name": "stderr",
     "output_type": "stream",
     "text": [
      "[23:37:39] Molecule does not have explicit Hs. Consider calling AddHs()\n"
     ]
    }
   ],
   "source": [
    "# tổng khối lượng của tất cả các nguyên tử trong phân tử.\n",
    "mol_weight = Descriptors.MolWt(mol)\n",
    "print(\"Mol weight: \", mol_weight)\n",
    "\n",
    "# Tính toán hệ số phân bố dầu-nước của phân tử, đại diện cho tính ưa dầu hoặc ưa nước\n",
    "logp = Descriptors.MolLogP(mol)\n",
    "print(\"Log P: \", logp)\n",
    "\n",
    "# số liên kết đơn không thuộc vòng trong phân tử, biểu thị cho tính linh hoạt của phân tử.\n",
    "num_rotatable_bonds = Descriptors.NumRotatableBonds(mol)\n",
    "print(\"Num rotatable bonds: \", num_rotatable_bonds)\n",
    "\n",
    "#  diện tích bề mặt phân tử có phân cực, liên quan đến khả năng tương tác với môi trường nước\n",
    "tpsa = Descriptors.TPSA(mol)\n",
    "print(\"Tpsa: \", tpsa)\n",
    "\n",
    "# số lượng nhóm chức trong phân tử có khả năng cho hoặc nhận liên kết hydro\n",
    "num_h_donors = Descriptors.NumHDonors(mol)\n",
    "num_h_acceptors = Descriptors.NumHAcceptors(mol)\n",
    "print(\"Num h donors: \", num_h_donors)\n",
    "print(\"Num h acceptor: \", num_h_acceptors)\n",
    "\n",
    "# Đo lường độ phân cực của các liên kết trong phân tử\n",
    "mol_refractivity = Descriptors.MolMR(mol)\n",
    "print(\"Mol refractivity: \", mol_refractivity)\n",
    "\n",
    "# số vòng trong phân tử\n",
    "num_rings = Descriptors.RingCount(mol)\n",
    "print(\"Num rings: \", num_rings)\n",
    "\n",
    "# Tính tỷ lệ các nguyên tử carbon trong phân tử có cấu trúc lai Csp3\n",
    "fraction_csp3 = Descriptors.FractionCSP3(mol)\n",
    "print(\"Fraction csp3: \", fraction_csp3)\n",
    "\n",
    "# Tính số lượng vòng thơm trong phân tử.\n",
    "num_aromatic_rings = Descriptors.NumAromaticRings(mol)\n",
    "print(\"Num aromatic rings: \", num_aromatic_rings)\n",
    "\n",
    "# Đánh giá khả năng của một phân tử có thể trở thành một loại thuốc dựa trên các đặc trưng hóa học.\n",
    "qed_value = QED.qed(mol)\n",
    "print(\"Qed value: \", qed_value)\n",
    "\n",
    "# Đánh giá độ phức tạp của phân tử, tức là mức độ khó khăn khi tổng hợp phân tử trong phòng thí nghiệm.\n",
    "# sa_score = rdMolDescriptors.CalcSyntheticAccessibilityScore(mol)\n",
    "# print(\"Sa score: \", sa_score)\n",
    "\n",
    "# Đo lường độ kết nối của phân tử dựa trên cấu trúc đồ thị của nó.\n",
    "balaban_j = Descriptors.BalabanJ(mol)\n",
    "print(\"Balaban j: \", balaban_j)\n",
    "\n",
    "# Các chỉ số chi khác nhau (Chi0, Chi1, Chi2,...) đo lường các khía cạnh khác nhau của sự kết nối trong phân tử.\n",
    "chi0 = Descriptors.Chi0(mol)\n",
    "print(\"Chi0: \", chi0)\n",
    "\n",
    "# Kiểm tra xem phân tử có chứa các nhóm chức hoặc cấu trúc con cụ thể có liên quan đến độc tính hoặc tính chất sinh học đặc biệt hay không.\n",
    "phenol = Chem.MolFromSmarts(sample_smile)\n",
    "matches = mol.HasSubstructMatch(phenol)\n",
    "print(\"Matches: \", matches)\n",
    "\n",
    "\n",
    "# 3d vitualize\n",
    "AllChem.EmbedMolecule(mol)\n",
    "AllChem.UFFOptimizeMolecule(mol)\n",
    "\n",
    "# Tính toán các mômen quán tính chính\n",
    "pmi1 = CalcPMI1(mol)  # PMI theo trục 1\n",
    "pmi2 = CalcPMI2(mol)  # PMI theo trục 2\n",
    "pmi3 = CalcPMI3(mol)  # PMI theo trục 3\n",
    "print(f\"pmi1: {pmi1}\\npmi2: {pmi2}\\npmi3: {pmi3}\")\n",
    "\n",
    "# Tính toán chỉ số hình dạng\n",
    "inertial_shape_factor = CalcInertialShapeFactor(mol)\n",
    "print(\"inertial shape factor\", inertial_shape_factor)\n",
    "\n",
    "# Tính toán tỷ lệ mômen quán tính\n",
    "pmi_ratio = CalcPBF(mol)  # Principal moments balance factor (PBF)\n",
    "print(\"Pmi ratio: \", pmi_ratio)\n",
    "\n",
    "# Tính bán kính quán tính\n",
    "radius_of_gyration = CalcRadiusOfGyration(mol)\n",
    "print(\"Radius of gyration: \", radius_of_gyration)"
   ]
  },
  {
   "cell_type": "code",
   "execution_count": null,
   "metadata": {},
   "outputs": [],
   "source": [
    "[matches, inertial_shape_factor, fraction_csp3, qed_value, balaban_j]"
   ]
  },
  {
   "cell_type": "code",
   "execution_count": null,
   "metadata": {},
   "outputs": [],
   "source": [
    "[mol_weight, logp, tpsa, mol_refractivity, chi0, pmi1, pmi2, pmi3, pmi_ratio, radius_of_gyration, num_aromatic_rings, num_h_donors, num_h_acceptors, num_rings, num_rotatable_bonds]"
   ]
  },
  {
   "cell_type": "code",
   "execution_count": 10,
   "metadata": {},
   "outputs": [],
   "source": [
    "def pic50_to_ic50(pic50):\n",
    "    return 10 ** (-pic50) * 1e9"
   ]
  },
  {
   "cell_type": "code",
   "execution_count": 12,
   "metadata": {},
   "outputs": [
    {
     "data": {
      "text/plain": [
       "array([0.022, 0.022, 0.022])"
      ]
     },
     "execution_count": 12,
     "metadata": {},
     "output_type": "execute_result"
    }
   ],
   "source": [
    "array = np.array([10.657577319177793, 10.657577319177793, 10.657577319177793])\n",
    "\n",
    "pic50_to_ic50(array)"
   ]
  },
  {
   "cell_type": "code",
   "execution_count": null,
   "metadata": {},
   "outputs": [],
   "source": []
  }
 ],
 "metadata": {
  "kernelspec": {
   "display_name": "crawl",
   "language": "python",
   "name": "python3"
  },
  "language_info": {
   "codemirror_mode": {
    "name": "ipython",
    "version": 3
   },
   "file_extension": ".py",
   "mimetype": "text/x-python",
   "name": "python",
   "nbconvert_exporter": "python",
   "pygments_lexer": "ipython3",
   "version": "3.9.19"
  }
 },
 "nbformat": 4,
 "nbformat_minor": 2
}
