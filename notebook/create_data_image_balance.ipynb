{
 "cells": [
  {
   "cell_type": "code",
   "execution_count": 1,
   "metadata": {},
   "outputs": [],
   "source": [
    "from rdkit import Chem\n",
    "from rdkit.Chem import Draw\n",
    "import numpy as np\n",
    "from PIL import Image\n",
    "import pandas as pd\n",
    "\n",
    "from tqdm import tqdm\n",
    "import uuid"
   ]
  },
  {
   "cell_type": "code",
   "execution_count": 24,
   "metadata": {},
   "outputs": [],
   "source": [
    "def smiles_to_image(smiles, img_size=(224, 224)):\n",
    "    mol = Chem.MolFromSmiles(smiles)\n",
    "    img = Draw.MolToImage(mol, size=img_size)\n",
    "    return img"
   ]
  },
  {
   "cell_type": "code",
   "execution_count": 25,
   "metadata": {},
   "outputs": [],
   "source": [
    "train_balance = pd.read_csv('../data/balance/train.csv')"
   ]
  },
  {
   "cell_type": "code",
   "execution_count": 26,
   "metadata": {},
   "outputs": [
    {
     "data": {
      "text/html": [
       "<div>\n",
       "<style scoped>\n",
       "    .dataframe tbody tr th:only-of-type {\n",
       "        vertical-align: middle;\n",
       "    }\n",
       "\n",
       "    .dataframe tbody tr th {\n",
       "        vertical-align: top;\n",
       "    }\n",
       "\n",
       "    .dataframe thead th {\n",
       "        text-align: right;\n",
       "    }\n",
       "</style>\n",
       "<table border=\"1\" class=\"dataframe\">\n",
       "  <thead>\n",
       "    <tr style=\"text-align: right;\">\n",
       "      <th></th>\n",
       "      <th>Smiles</th>\n",
       "      <th>IC50_nM</th>\n",
       "      <th>pIC50</th>\n",
       "    </tr>\n",
       "  </thead>\n",
       "  <tbody>\n",
       "    <tr>\n",
       "      <th>0</th>\n",
       "      <td>CN[C@@H](C)C(=O)N[C@H](C(=O)N1C[C@@H](NC(=O)CC...</td>\n",
       "      <td>0.022</td>\n",
       "      <td>10.66</td>\n",
       "    </tr>\n",
       "    <tr>\n",
       "      <th>1</th>\n",
       "      <td>N([C@H](C(=O)N1[C@H](C(=O)N[C@H]2c3ccccc3CCC2)...</td>\n",
       "      <td>0.022</td>\n",
       "      <td>10.66</td>\n",
       "    </tr>\n",
       "    <tr>\n",
       "      <th>2</th>\n",
       "      <td>O=C(N)c1c(OC)cc2c(OC[C@H]3NC(=O)CC3)ncc(C#CCOC...</td>\n",
       "      <td>0.022</td>\n",
       "      <td>10.66</td>\n",
       "    </tr>\n",
       "    <tr>\n",
       "      <th>3</th>\n",
       "      <td>c1(c(cc2c(c(ncc2C#CCOCCOCCOCCC(N[C@H]2C[C@@H](...</td>\n",
       "      <td>0.022</td>\n",
       "      <td>10.66</td>\n",
       "    </tr>\n",
       "    <tr>\n",
       "      <th>4</th>\n",
       "      <td>O(C)c1cc2c(ncc(c2cc1C(N)=O)C#CCOCCOCCOCCC(=O)N...</td>\n",
       "      <td>0.022</td>\n",
       "      <td>10.66</td>\n",
       "    </tr>\n",
       "  </tbody>\n",
       "</table>\n",
       "</div>"
      ],
      "text/plain": [
       "                                              Smiles  IC50_nM  pIC50\n",
       "0  CN[C@@H](C)C(=O)N[C@H](C(=O)N1C[C@@H](NC(=O)CC...    0.022  10.66\n",
       "1  N([C@H](C(=O)N1[C@H](C(=O)N[C@H]2c3ccccc3CCC2)...    0.022  10.66\n",
       "2  O=C(N)c1c(OC)cc2c(OC[C@H]3NC(=O)CC3)ncc(C#CCOC...    0.022  10.66\n",
       "3  c1(c(cc2c(c(ncc2C#CCOCCOCCOCCC(N[C@H]2C[C@@H](...    0.022  10.66\n",
       "4  O(C)c1cc2c(ncc(c2cc1C(N)=O)C#CCOCCOCCOCCC(=O)N...    0.022  10.66"
      ]
     },
     "execution_count": 26,
     "metadata": {},
     "output_type": "execute_result"
    }
   ],
   "source": [
    "train_balance.head()"
   ]
  },
  {
   "cell_type": "code",
   "execution_count": 28,
   "metadata": {},
   "outputs": [
    {
     "name": "stderr",
     "output_type": "stream",
     "text": [
      "100%|██████████| 28520/28520 [01:16<00:00, 374.91it/s]\n"
     ]
    }
   ],
   "source": [
    "list_sample = []\n",
    "root = \"/mnt/4726C8D91DA6DCE5/doannghia/dacon/data/balance/image_train\"\n",
    "for i in tqdm(range(len(train_balance))):\n",
    "    smile, ic50, pic50 = train_balance.iloc[i].values\n",
    "    name = str(uuid.uuid4()) + '_' + str(i) + '.jpg'\n",
    "    path_save = f\"{root}/{name}\"\n",
    "    img = smiles_to_image(smile)\n",
    "    img.save(path_save, format=\"JPEG\")\n",
    "    \n",
    "    list_sample.append([path_save, smile, ic50, pic50])"
   ]
  },
  {
   "cell_type": "code",
   "execution_count": 29,
   "metadata": {},
   "outputs": [],
   "source": [
    "df_train = pd.DataFrame(columns=['Path', 'Smiles', 'IC50_nM', 'pIC50'], data=list_sample)"
   ]
  },
  {
   "cell_type": "code",
   "execution_count": 35,
   "metadata": {},
   "outputs": [],
   "source": [
    "val_balance = pd.read_csv('../data/balance/val.csv')"
   ]
  },
  {
   "cell_type": "code",
   "execution_count": 36,
   "metadata": {},
   "outputs": [
    {
     "data": {
      "text/html": [
       "<div>\n",
       "<style scoped>\n",
       "    .dataframe tbody tr th:only-of-type {\n",
       "        vertical-align: middle;\n",
       "    }\n",
       "\n",
       "    .dataframe tbody tr th {\n",
       "        vertical-align: top;\n",
       "    }\n",
       "\n",
       "    .dataframe thead th {\n",
       "        text-align: right;\n",
       "    }\n",
       "</style>\n",
       "<table border=\"1\" class=\"dataframe\">\n",
       "  <thead>\n",
       "    <tr style=\"text-align: right;\">\n",
       "      <th></th>\n",
       "      <th>Smiles</th>\n",
       "      <th>IC50_nM</th>\n",
       "      <th>pIC50</th>\n",
       "    </tr>\n",
       "  </thead>\n",
       "  <tbody>\n",
       "    <tr>\n",
       "      <th>0</th>\n",
       "      <td>NC(=O)[C@@H]1[C@H](Nc2nc(Nc3ccnc(N4CCCC4)c3)nc...</td>\n",
       "      <td>206.0</td>\n",
       "      <td>6.69</td>\n",
       "    </tr>\n",
       "    <tr>\n",
       "      <th>1</th>\n",
       "      <td>O=c1[nH]c(N2CCOCC2)nc(N[C@@H]2CCCNC2)c1-c1nccs1</td>\n",
       "      <td>1830.0</td>\n",
       "      <td>5.74</td>\n",
       "    </tr>\n",
       "    <tr>\n",
       "      <th>2</th>\n",
       "      <td>CC(C)(O)[C@H](F)CNC(=O)c1cnc(-n2ncc3cc(C#N)cnc...</td>\n",
       "      <td>9.6</td>\n",
       "      <td>8.02</td>\n",
       "    </tr>\n",
       "    <tr>\n",
       "      <th>3</th>\n",
       "      <td>COc1cc2cc[nH]c2cc1NC(=O)c1cnn2cccnc12</td>\n",
       "      <td>787.0</td>\n",
       "      <td>6.10</td>\n",
       "    </tr>\n",
       "    <tr>\n",
       "      <th>4</th>\n",
       "      <td>CC(C)Nc1cc(-n2ncc3cc(C#N)cnc32)ncc1C(=O)NC1CCN...</td>\n",
       "      <td>15.7</td>\n",
       "      <td>7.80</td>\n",
       "    </tr>\n",
       "  </tbody>\n",
       "</table>\n",
       "</div>"
      ],
      "text/plain": [
       "                                              Smiles  IC50_nM  pIC50\n",
       "0  NC(=O)[C@@H]1[C@H](Nc2nc(Nc3ccnc(N4CCCC4)c3)nc...    206.0   6.69\n",
       "1    O=c1[nH]c(N2CCOCC2)nc(N[C@@H]2CCCNC2)c1-c1nccs1   1830.0   5.74\n",
       "2  CC(C)(O)[C@H](F)CNC(=O)c1cnc(-n2ncc3cc(C#N)cnc...      9.6   8.02\n",
       "3              COc1cc2cc[nH]c2cc1NC(=O)c1cnn2cccnc12    787.0   6.10\n",
       "4  CC(C)Nc1cc(-n2ncc3cc(C#N)cnc32)ncc1C(=O)NC1CCN...     15.7   7.80"
      ]
     },
     "execution_count": 36,
     "metadata": {},
     "output_type": "execute_result"
    }
   ],
   "source": [
    "val_balance.head()"
   ]
  },
  {
   "cell_type": "code",
   "execution_count": null,
   "metadata": {},
   "outputs": [],
   "source": [
    "list_sample = []\n",
    "root = \"/mnt/4726C8D91DA6DCE5/doannghia/dacon/data/balance/image_val\"\n",
    "for i in tqdm(range(len(val_balance))):\n",
    "    smile, ic50, pic50 = val_balance.iloc[i].values\n",
    "    name = str(uuid.uuid4()) + '_' + str(i) + '.jpg'\n",
    "    path_save = f\"{root}/{name}\"\n",
    "    img = smiles_to_image(smile)\n",
    "    img.save(path_save, format=\"JPEG\")\n",
    "    \n",
    "    list_sample.append([path_save, smile, ic50, pic50])"
   ]
  },
  {
   "cell_type": "code",
   "execution_count": null,
   "metadata": {},
   "outputs": [],
   "source": [
    "df_val = pd.DataFrame(columns=['Path', 'Smiles', 'IC50_nM', 'pIC50'], data=list_sample)"
   ]
  },
  {
   "cell_type": "code",
   "execution_count": 30,
   "metadata": {},
   "outputs": [],
   "source": [
    "test = pd.read_csv(\"../data/test.csv\")"
   ]
  },
  {
   "cell_type": "code",
   "execution_count": 31,
   "metadata": {},
   "outputs": [
    {
     "name": "stderr",
     "output_type": "stream",
     "text": [
      "  0%|          | 0/113 [00:00<?, ?it/s]"
     ]
    },
    {
     "name": "stderr",
     "output_type": "stream",
     "text": [
      "100%|██████████| 113/113 [00:00<00:00, 354.24it/s]\n"
     ]
    }
   ],
   "source": [
    "list_sample_test = []\n",
    "root = \"/mnt/4726C8D91DA6DCE5/doannghia/dacon/data/balance/image_test\"\n",
    "for i in tqdm(range(len(test))):\n",
    "    id, smile = test.iloc[i].values\n",
    "    name = str(uuid.uuid4()) + '_' + str(i) + '.jpg'\n",
    "    path_save = f\"{root}/{name}\"\n",
    "    img = smiles_to_image(smile)\n",
    "    img.save(path_save, format=\"JPEG\")\n",
    "    \n",
    "    list_sample_test.append([path_save, id, smile])"
   ]
  },
  {
   "cell_type": "code",
   "execution_count": 32,
   "metadata": {},
   "outputs": [],
   "source": [
    "df_test = pd.DataFrame(columns=['Path', \"ID\", \"Smiles\"], data=list_sample_test)"
   ]
  },
  {
   "cell_type": "code",
   "execution_count": 33,
   "metadata": {},
   "outputs": [
    {
     "data": {
      "text/plain": [
       "(28520, 113)"
      ]
     },
     "execution_count": 33,
     "metadata": {},
     "output_type": "execute_result"
    }
   ],
   "source": [
    "len(df_train), len(df_test)"
   ]
  },
  {
   "cell_type": "code",
   "execution_count": 34,
   "metadata": {},
   "outputs": [],
   "source": [
    "df_train.to_csv(\"../data/balance/train_image.csv\", index=False)\n",
    "df_val.to_csv(\"../data/balance/val_image.csv\", index=False)\n",
    "df_test.to_csv(\"../data/balance/test_image.csv\", index=False)"
   ]
  },
  {
   "cell_type": "code",
   "execution_count": null,
   "metadata": {},
   "outputs": [],
   "source": []
  }
 ],
 "metadata": {
  "kernelspec": {
   "display_name": "asr",
   "language": "python",
   "name": "python3"
  },
  "language_info": {
   "codemirror_mode": {
    "name": "ipython",
    "version": 3
   },
   "file_extension": ".py",
   "mimetype": "text/x-python",
   "name": "python",
   "nbconvert_exporter": "python",
   "pygments_lexer": "ipython3",
   "version": "3.9.19"
  }
 },
 "nbformat": 4,
 "nbformat_minor": 2
}
