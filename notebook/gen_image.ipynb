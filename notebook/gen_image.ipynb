{
 "cells": [
  {
   "cell_type": "code",
   "execution_count": 1,
   "metadata": {},
   "outputs": [],
   "source": [
    "from rdkit import Chem\n",
    "from rdkit.Chem import Draw\n",
    "import numpy as np\n",
    "from PIL import Image\n",
    "import pandas as pd"
   ]
  },
  {
   "cell_type": "code",
   "execution_count": 2,
   "metadata": {},
   "outputs": [],
   "source": [
    "def smiles_to_image(smiles, img_size=(224, 224)):\n",
    "    mol = Chem.MolFromSmiles(smiles)\n",
    "    img = Draw.MolToImage(mol, size=img_size)\n",
    "    return img"
   ]
  },
  {
   "cell_type": "code",
   "execution_count": 3,
   "metadata": {},
   "outputs": [],
   "source": [
    "train_10_all = pd.read_csv(\"../data/train_10_all.csv\")"
   ]
  },
  {
   "cell_type": "code",
   "execution_count": 4,
   "metadata": {},
   "outputs": [
    {
     "data": {
      "text/html": [
       "<div>\n",
       "<style scoped>\n",
       "    .dataframe tbody tr th:only-of-type {\n",
       "        vertical-align: middle;\n",
       "    }\n",
       "\n",
       "    .dataframe tbody tr th {\n",
       "        vertical-align: top;\n",
       "    }\n",
       "\n",
       "    .dataframe thead th {\n",
       "        text-align: right;\n",
       "    }\n",
       "</style>\n",
       "<table border=\"1\" class=\"dataframe\">\n",
       "  <thead>\n",
       "    <tr style=\"text-align: right;\">\n",
       "      <th></th>\n",
       "      <th>Smiles</th>\n",
       "      <th>IC50_nM</th>\n",
       "      <th>pIC50</th>\n",
       "    </tr>\n",
       "  </thead>\n",
       "  <tbody>\n",
       "    <tr>\n",
       "      <th>0</th>\n",
       "      <td>CN[C@@H](C)C(=O)N[C@H](C(=O)N1C[C@@H](NC(=O)CC...</td>\n",
       "      <td>0.022</td>\n",
       "      <td>10.66</td>\n",
       "    </tr>\n",
       "    <tr>\n",
       "      <th>1</th>\n",
       "      <td>c12c(c(OC[C@@H]3CCC(N3)=O)ncc1C#CCOCCOCCOCCC(N...</td>\n",
       "      <td>0.022</td>\n",
       "      <td>10.66</td>\n",
       "    </tr>\n",
       "    <tr>\n",
       "      <th>2</th>\n",
       "      <td>[C@@H]1(c2c(cccc2)CCC1)NC([C@@H]1C[C@H](NC(=O)...</td>\n",
       "      <td>0.022</td>\n",
       "      <td>10.66</td>\n",
       "    </tr>\n",
       "    <tr>\n",
       "      <th>3</th>\n",
       "      <td>C1C[C@H](NC1=O)COc1ncc(c2c1cc(OC)c(C(N)=O)c2)C...</td>\n",
       "      <td>0.022</td>\n",
       "      <td>10.66</td>\n",
       "    </tr>\n",
       "    <tr>\n",
       "      <th>4</th>\n",
       "      <td>[C@H](NC(=O)[C@H](C)NC)(C1CCCCC1)C(=O)N1C[C@@H...</td>\n",
       "      <td>0.022</td>\n",
       "      <td>10.66</td>\n",
       "    </tr>\n",
       "  </tbody>\n",
       "</table>\n",
       "</div>"
      ],
      "text/plain": [
       "                                              Smiles  IC50_nM  pIC50\n",
       "0  CN[C@@H](C)C(=O)N[C@H](C(=O)N1C[C@@H](NC(=O)CC...    0.022  10.66\n",
       "1  c12c(c(OC[C@@H]3CCC(N3)=O)ncc1C#CCOCCOCCOCCC(N...    0.022  10.66\n",
       "2  [C@@H]1(c2c(cccc2)CCC1)NC([C@@H]1C[C@H](NC(=O)...    0.022  10.66\n",
       "3  C1C[C@H](NC1=O)COc1ncc(c2c1cc(OC)c(C(N)=O)c2)C...    0.022  10.66\n",
       "4  [C@H](NC(=O)[C@H](C)NC)(C1CCCCC1)C(=O)N1C[C@@H...    0.022  10.66"
      ]
     },
     "execution_count": 4,
     "metadata": {},
     "output_type": "execute_result"
    }
   ],
   "source": [
    "train_10_all.head()"
   ]
  },
  {
   "cell_type": "code",
   "execution_count": 7,
   "metadata": {},
   "outputs": [
    {
     "name": "stdout",
     "output_type": "stream",
     "text": [
      "CN[C@@H](C)C(=O)N[C@H](C(=O)N1C[C@@H](NC(=O)CCOCCOCCOCC#Cc2cnc(OC[C@@H]3CCC(=O)N3)c3cc(OC)c(C(N)=O)cc23)C[C@H]1C(=O)N[C@@H]1CCCc2ccccc21)C1CCCCC1 0.022 10.66\n"
     ]
    }
   ],
   "source": [
    "list_sample = []\n",
    "root = \"E:/competition/atoms/data/image\"\n",
    "for i in range(len(train_10_all)):\n",
    "    smile, ic50, pic50 = train_10_all.iloc[i].values\n",
    "    name = smile + '_' + str(i) + '.png'\n",
    "    img = smiles_to_image(smile)\n",
    "    img.save(f\"{root}/{name}\", format=\"PNG\")\n",
    "    \n",
    "    "
   ]
  },
  {
   "cell_type": "code",
   "execution_count": null,
   "metadata": {},
   "outputs": [],
   "source": []
  }
 ],
 "metadata": {
  "kernelspec": {
   "display_name": "crawl",
   "language": "python",
   "name": "python3"
  },
  "language_info": {
   "codemirror_mode": {
    "name": "ipython",
    "version": 3
   },
   "file_extension": ".py",
   "mimetype": "text/x-python",
   "name": "python",
   "nbconvert_exporter": "python",
   "pygments_lexer": "ipython3",
   "version": "3.9.19"
  }
 },
 "nbformat": 4,
 "nbformat_minor": 2
}
